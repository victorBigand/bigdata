{
 "cells": [
  {
   "cell_type": "markdown",
   "metadata": {},
   "source": [
    "## Scraping New York Times articles\n",
    "Imports"
   ]
  },
  {
   "cell_type": "code",
   "execution_count": 1,
   "metadata": {},
   "outputs": [],
   "source": [
    "import pandas as pd\n",
    "from bs4 import BeautifulSoup\n",
    "import requests as rq\n",
    "import tqdm"
   ]
  },
  {
   "cell_type": "markdown",
   "metadata": {},
   "source": [
    "Creating an empty dataframe"
   ]
  },
  {
   "cell_type": "code",
   "execution_count": 2,
   "metadata": {},
   "outputs": [],
   "source": [
    "df = pd.DataFrame(columns=['title', 'content'])"
   ]
  },
  {
   "cell_type": "markdown",
   "metadata": {},
   "source": [
    "Function that scraps one article and returns its title and its content"
   ]
  },
  {
   "cell_type": "code",
   "execution_count": 3,
   "metadata": {},
   "outputs": [],
   "source": [
    "def scrap_article(url):\n",
    "    try:\n",
    "        html = rq.get(url).text\n",
    "        soup = BeautifulSoup(html,'lxml')\n",
    "        try:\n",
    "            title = soup.find('span', attrs={'class':'css-rs6kf8'}).get_text().strip()\n",
    "            content = soup.find('section', attrs={'name': 'articleBody'}).get_text().strip()\n",
    "            return (title, content)\n",
    "        except:\n",
    "            pass\n",
    "    except:\n",
    "        pass"
   ]
  },
  {
   "cell_type": "markdown",
   "metadata": {},
   "source": [
    "Function that returns all articles' links on one section's main page"
   ]
  },
  {
   "cell_type": "code",
   "execution_count": 4,
   "metadata": {},
   "outputs": [],
   "source": [
    "def get_articles_links(url):\n",
    "    html = rq.get(url).text\n",
    "    soup = BeautifulSoup(html, 'lxml')\n",
    "    titles = soup.find_all('h2', attrs={'class': 'headline'})\n",
    "    urls  = []\n",
    "    for el in titles:\n",
    "        try:\n",
    "            urls.append(el.find('a')['href'])\n",
    "        except:\n",
    "            urls.append(el.parent.parent.get('href'))\n",
    "    for url in urls:\n",
    "        df.at[len(df)] = scrap_article(url)"
   ]
  },
  {
   "cell_type": "markdown",
   "metadata": {},
   "source": [
    "Main function that reads section's links and calls other functions"
   ]
  },
  {
   "cell_type": "code",
   "execution_count": 5,
   "metadata": {},
   "outputs": [
    {
     "name": "stderr",
     "output_type": "stream",
     "text": [
      "100%|██████████████████████████████████████████████████████████████████████████████████| 19/19 [01:13<00:00,  6.60s/it]\n"
     ]
    }
   ],
   "source": [
    "url = 'https://www.nytimes.com/'\n",
    "html = rq.get(url).text\n",
    "soup = BeautifulSoup(html, 'lxml')\n",
    "sections = soup.find('div', attrs={'data-testid': 'masthead-mini-nav'})\n",
    "links_sections = sections.find_all('a')\n",
    "for link in tqdm.tqdm(links_sections):\n",
    "    get_articles_links(link.get_attribute_list('href')[0])"
   ]
  },
  {
   "cell_type": "markdown",
   "metadata": {},
   "source": [
    "Results"
   ]
  },
  {
   "cell_type": "code",
   "execution_count": 6,
   "metadata": {},
   "outputs": [
    {
     "data": {
      "text/html": [
       "<div>\n",
       "<style scoped>\n",
       "    .dataframe tbody tr th:only-of-type {\n",
       "        vertical-align: middle;\n",
       "    }\n",
       "\n",
       "    .dataframe tbody tr th {\n",
       "        vertical-align: top;\n",
       "    }\n",
       "\n",
       "    .dataframe thead th {\n",
       "        text-align: right;\n",
       "    }\n",
       "</style>\n",
       "<table border=\"1\" class=\"dataframe\">\n",
       "  <thead>\n",
       "    <tr style=\"text-align: right;\">\n",
       "      <th></th>\n",
       "      <th>title</th>\n",
       "      <th>content</th>\n",
       "    </tr>\n",
       "  </thead>\n",
       "  <tbody>\n",
       "    <tr>\n",
       "      <th>0</th>\n",
       "      <td>‘Yellow Vest’ Protests Shake France. Here’s th...</td>\n",
       "      <td>PARIS — Vincent Picard describes himself as a ...</td>\n",
       "    </tr>\n",
       "    <tr>\n",
       "      <th>1</th>\n",
       "      <td>In a Seething Pro-Brexit Town, Doubts Creep In...</td>\n",
       "      <td>SUNDERLAND, England — They train in a gym near...</td>\n",
       "    </tr>\n",
       "    <tr>\n",
       "      <th>2</th>\n",
       "      <td>Yemen Peace Talks Begin With Agreement to Free...</td>\n",
       "      <td>CAIRO — Yemen’s warring sides agreed on Thursd...</td>\n",
       "    </tr>\n",
       "    <tr>\n",
       "      <th>3</th>\n",
       "      <td>‘Already an Exception’: Merkel’s Legacy Is Sha...</td>\n",
       "      <td>CHEMNITZ, Germany — Two weeks after announcing...</td>\n",
       "    </tr>\n",
       "    <tr>\n",
       "      <th>4</th>\n",
       "      <td>Who Will Replace Angela Merkel as German Conse...</td>\n",
       "      <td>BERLIN — After 18 years under the leadership o...</td>\n",
       "    </tr>\n",
       "  </tbody>\n",
       "</table>\n",
       "</div>"
      ],
      "text/plain": [
       "                                               title  \\\n",
       "0  ‘Yellow Vest’ Protests Shake France. Here’s th...   \n",
       "1  In a Seething Pro-Brexit Town, Doubts Creep In...   \n",
       "2  Yemen Peace Talks Begin With Agreement to Free...   \n",
       "3  ‘Already an Exception’: Merkel’s Legacy Is Sha...   \n",
       "4  Who Will Replace Angela Merkel as German Conse...   \n",
       "\n",
       "                                             content  \n",
       "0  PARIS — Vincent Picard describes himself as a ...  \n",
       "1  SUNDERLAND, England — They train in a gym near...  \n",
       "2  CAIRO — Yemen’s warring sides agreed on Thursd...  \n",
       "3  CHEMNITZ, Germany — Two weeks after announcing...  \n",
       "4  BERLIN — After 18 years under the leadership o...  "
      ]
     },
     "execution_count": 6,
     "metadata": {},
     "output_type": "execute_result"
    }
   ],
   "source": [
    "df.head()"
   ]
  },
  {
   "cell_type": "code",
   "execution_count": 7,
   "metadata": {},
   "outputs": [
    {
     "name": "stdout",
     "output_type": "stream",
     "text": [
      "We have 515 articles\n"
     ]
    }
   ],
   "source": [
    "print('We have {} articles'.format(len(df)))"
   ]
  },
  {
   "cell_type": "code",
   "execution_count": 8,
   "metadata": {},
   "outputs": [],
   "source": [
    "df.to_csv('nyt_articles.csv', index=False)"
   ]
  },
  {
   "cell_type": "code",
   "execution_count": null,
   "metadata": {},
   "outputs": [],
   "source": []
  }
 ],
 "metadata": {
  "kernelspec": {
   "display_name": "Python 3",
   "language": "python",
   "name": "python3"
  },
  "language_info": {
   "codemirror_mode": {
    "name": "ipython",
    "version": 3
   },
   "file_extension": ".py",
   "mimetype": "text/x-python",
   "name": "python",
   "nbconvert_exporter": "python",
   "pygments_lexer": "ipython3",
   "version": "3.7.0"
  },
  "toc": {
   "base_numbering": 1,
   "nav_menu": {},
   "number_sections": true,
   "sideBar": true,
   "skip_h1_title": true,
   "title_cell": "Table of Contents",
   "title_sidebar": "Contents",
   "toc_cell": true,
   "toc_position": {},
   "toc_section_display": true,
   "toc_window_display": false
  }
 },
 "nbformat": 4,
 "nbformat_minor": 2
}
