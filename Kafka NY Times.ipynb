{
 "cells": [
  {
   "cell_type": "markdown",
   "metadata": {},
   "source": [
    "# Kafka producer for NY Times articles"
   ]
  },
  {
   "cell_type": "markdown",
   "metadata": {},
   "source": [
    "We are using the kafka-python package"
   ]
  },
  {
   "cell_type": "code",
   "execution_count": 9,
   "metadata": {},
   "outputs": [],
   "source": [
    "import pandas as pd\n",
    "from kafka import KafkaProducer"
   ]
  },
  {
   "cell_type": "markdown",
   "metadata": {},
   "source": [
    "Let's retrieve the data we previsously scrapped"
   ]
  },
  {
   "cell_type": "code",
   "execution_count": 10,
   "metadata": {
    "scrolled": true
   },
   "outputs": [
    {
     "data": {
      "text/html": [
       "<div>\n",
       "<style scoped>\n",
       "    .dataframe tbody tr th:only-of-type {\n",
       "        vertical-align: middle;\n",
       "    }\n",
       "\n",
       "    .dataframe tbody tr th {\n",
       "        vertical-align: top;\n",
       "    }\n",
       "\n",
       "    .dataframe thead th {\n",
       "        text-align: right;\n",
       "    }\n",
       "</style>\n",
       "<table border=\"1\" class=\"dataframe\">\n",
       "  <thead>\n",
       "    <tr style=\"text-align: right;\">\n",
       "      <th></th>\n",
       "      <th>title</th>\n",
       "      <th>content</th>\n",
       "    </tr>\n",
       "  </thead>\n",
       "  <tbody>\n",
       "    <tr>\n",
       "      <th>0</th>\n",
       "      <td>‘Yellow Vest’ Protests Shake France. Here’s th...</td>\n",
       "      <td>PARIS — Vincent Picard describes himself as a ...</td>\n",
       "    </tr>\n",
       "    <tr>\n",
       "      <th>1</th>\n",
       "      <td>In a Seething Pro-Brexit Town, Doubts Creep In...</td>\n",
       "      <td>SUNDERLAND, England — They train in a gym near...</td>\n",
       "    </tr>\n",
       "    <tr>\n",
       "      <th>2</th>\n",
       "      <td>Yemen Peace Talks Begin With Agreement to Free...</td>\n",
       "      <td>CAIRO — Yemen’s warring sides agreed on Thursd...</td>\n",
       "    </tr>\n",
       "    <tr>\n",
       "      <th>3</th>\n",
       "      <td>‘Already an Exception’: Merkel’s Legacy Is Sha...</td>\n",
       "      <td>CHEMNITZ, Germany — Two weeks after announcing...</td>\n",
       "    </tr>\n",
       "    <tr>\n",
       "      <th>4</th>\n",
       "      <td>Who Will Replace Angela Merkel as German Conse...</td>\n",
       "      <td>BERLIN — After 18 years under the leadership o...</td>\n",
       "    </tr>\n",
       "  </tbody>\n",
       "</table>\n",
       "</div>"
      ],
      "text/plain": [
       "                                               title  \\\n",
       "0  ‘Yellow Vest’ Protests Shake France. Here’s th...   \n",
       "1  In a Seething Pro-Brexit Town, Doubts Creep In...   \n",
       "2  Yemen Peace Talks Begin With Agreement to Free...   \n",
       "3  ‘Already an Exception’: Merkel’s Legacy Is Sha...   \n",
       "4  Who Will Replace Angela Merkel as German Conse...   \n",
       "\n",
       "                                             content  \n",
       "0  PARIS — Vincent Picard describes himself as a ...  \n",
       "1  SUNDERLAND, England — They train in a gym near...  \n",
       "2  CAIRO — Yemen’s warring sides agreed on Thursd...  \n",
       "3  CHEMNITZ, Germany — Two weeks after announcing...  \n",
       "4  BERLIN — After 18 years under the leadership o...  "
      ]
     },
     "execution_count": 10,
     "metadata": {},
     "output_type": "execute_result"
    }
   ],
   "source": [
    "df = pd.read_csv('nyt_articles.csv')\n",
    "df.head()"
   ]
  },
  {
   "cell_type": "markdown",
   "metadata": {},
   "source": [
    "Now we create the KafkaProducer which connects to the server"
   ]
  },
  {
   "cell_type": "code",
   "execution_count": 11,
   "metadata": {},
   "outputs": [],
   "source": [
    "name_topic = 'nyt_articles'\n",
    "server1 = 'ece1.adaltas.com:9093'"
   ]
  },
  {
   "cell_type": "code",
   "execution_count": 13,
   "metadata": {},
   "outputs": [],
   "source": [
    "producer = KafkaProducer(bootstrap_servers=server1)"
   ]
  },
  {
   "cell_type": "markdown",
   "metadata": {},
   "source": [
    "We will now push the data into the topic <i>nyt_articles</i>"
   ]
  },
  {
   "cell_type": "code",
   "execution_count": 10,
   "metadata": {},
   "outputs": [],
   "source": [
    "def publish_message(producer_instance, title, content):\n",
    "    try:\n",
    "        producer_instance.send('nyt_articles', value=(title, content))\n",
    "        producer_instance.flush()\n",
    "        print('Message published successfully!')\n",
    "    except Exception:\n",
    "        print('Error while publishing')\n",
    "        print(str(Exception))"
   ]
  },
  {
   "cell_type": "code",
   "execution_count": null,
   "metadata": {},
   "outputs": [
    {
     "name": "stdout",
     "output_type": "stream",
     "text": [
      "Error while publishing\n",
      "<class 'Exception'>\n"
     ]
    }
   ],
   "source": [
    "for idx, row in df.iterrows():\n",
    "    publish_message(producer, row.title, row.content)\n",
    "producer.close()"
   ]
  },
  {
   "cell_type": "code",
   "execution_count": 4,
   "metadata": {},
   "outputs": [],
   "source": []
  },
  {
   "cell_type": "code",
   "execution_count": null,
   "metadata": {},
   "outputs": [],
   "source": []
  }
 ],
 "metadata": {
  "kernelspec": {
   "display_name": "Python 3",
   "language": "python",
   "name": "python3"
  },
  "language_info": {
   "codemirror_mode": {
    "name": "ipython",
    "version": 3
   },
   "file_extension": ".py",
   "mimetype": "text/x-python",
   "name": "python",
   "nbconvert_exporter": "python",
   "pygments_lexer": "ipython3",
   "version": "3.7.0"
  }
 },
 "nbformat": 4,
 "nbformat_minor": 2
}
